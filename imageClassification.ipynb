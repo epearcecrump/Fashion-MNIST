{
  "nbformat": 4,
  "nbformat_minor": 5,
  "metadata": {
    "kernelspec": {
      "display_name": "Python 3 (ipykernel)",
      "language": "python",
      "name": "python3"
    },
    "language_info": {
      "codemirror_mode": {
        "name": "ipython",
        "version": 3
      },
      "file_extension": ".py",
      "mimetype": "text/x-python",
      "name": "python",
      "nbconvert_exporter": "python",
      "pygments_lexer": "ipython3",
      "version": "3.7.0"
    },
    "colab": {
      "name": "imageClassification.ipynb",
      "provenance": []
    },
    "accelerator": "GPU",
    "widgets": {
      "application/vnd.jupyter.widget-state+json": {
        "bc64f7cf94094ac78cedb0ea658e43d9": {
          "model_module": "@jupyter-widgets/controls",
          "model_name": "HBoxModel",
          "model_module_version": "1.5.0",
          "state": {
            "_view_name": "HBoxView",
            "_dom_classes": [],
            "_model_name": "HBoxModel",
            "_view_module": "@jupyter-widgets/controls",
            "_model_module_version": "1.5.0",
            "_view_count": null,
            "_view_module_version": "1.5.0",
            "box_style": "",
            "layout": "IPY_MODEL_06281b1c0b9b4dc39843eb6b2ef034b3",
            "_model_module": "@jupyter-widgets/controls",
            "children": [
              "IPY_MODEL_debef1a22fe44e5d9997c851b3e53299",
              "IPY_MODEL_cf978f6cc853436e8dd8dd3fc06a072b",
              "IPY_MODEL_529f05b50c644f74bea8e96941ab46c0"
            ]
          }
        },
        "06281b1c0b9b4dc39843eb6b2ef034b3": {
          "model_module": "@jupyter-widgets/base",
          "model_name": "LayoutModel",
          "model_module_version": "1.2.0",
          "state": {
            "_view_name": "LayoutView",
            "grid_template_rows": null,
            "right": null,
            "justify_content": null,
            "_view_module": "@jupyter-widgets/base",
            "overflow": null,
            "_model_module_version": "1.2.0",
            "_view_count": null,
            "flex_flow": null,
            "width": null,
            "min_width": null,
            "border": null,
            "align_items": null,
            "bottom": null,
            "_model_module": "@jupyter-widgets/base",
            "top": null,
            "grid_column": null,
            "overflow_y": null,
            "overflow_x": null,
            "grid_auto_flow": null,
            "grid_area": null,
            "grid_template_columns": null,
            "flex": null,
            "_model_name": "LayoutModel",
            "justify_items": null,
            "grid_row": null,
            "max_height": null,
            "align_content": null,
            "visibility": null,
            "align_self": null,
            "height": null,
            "min_height": null,
            "padding": null,
            "grid_auto_rows": null,
            "grid_gap": null,
            "max_width": null,
            "order": null,
            "_view_module_version": "1.2.0",
            "grid_template_areas": null,
            "object_position": null,
            "object_fit": null,
            "grid_auto_columns": null,
            "margin": null,
            "display": null,
            "left": null
          }
        },
        "debef1a22fe44e5d9997c851b3e53299": {
          "model_module": "@jupyter-widgets/controls",
          "model_name": "HTMLModel",
          "model_module_version": "1.5.0",
          "state": {
            "_view_name": "HTMLView",
            "style": "IPY_MODEL_7682ce052bea4fc29f7c7d04045bfc6e",
            "_dom_classes": [],
            "description": "",
            "_model_name": "HTMLModel",
            "placeholder": "​",
            "_view_module": "@jupyter-widgets/controls",
            "_model_module_version": "1.5.0",
            "value": "",
            "_view_count": null,
            "_view_module_version": "1.5.0",
            "description_tooltip": null,
            "_model_module": "@jupyter-widgets/controls",
            "layout": "IPY_MODEL_0d98490407f540a68340cb01f43f7529"
          }
        },
        "cf978f6cc853436e8dd8dd3fc06a072b": {
          "model_module": "@jupyter-widgets/controls",
          "model_name": "FloatProgressModel",
          "model_module_version": "1.5.0",
          "state": {
            "_view_name": "ProgressView",
            "style": "IPY_MODEL_017adbf2a764447fa5d6d8f2fdc5f8c0",
            "_dom_classes": [],
            "description": "",
            "_model_name": "FloatProgressModel",
            "bar_style": "success",
            "max": 26421880,
            "_view_module": "@jupyter-widgets/controls",
            "_model_module_version": "1.5.0",
            "value": 26421880,
            "_view_count": null,
            "_view_module_version": "1.5.0",
            "orientation": "horizontal",
            "min": 0,
            "description_tooltip": null,
            "_model_module": "@jupyter-widgets/controls",
            "layout": "IPY_MODEL_bcffee0e4bda4a0ca3334566fe6ae1d6"
          }
        },
        "529f05b50c644f74bea8e96941ab46c0": {
          "model_module": "@jupyter-widgets/controls",
          "model_name": "HTMLModel",
          "model_module_version": "1.5.0",
          "state": {
            "_view_name": "HTMLView",
            "style": "IPY_MODEL_4df6215b065647fe814093ad57118c4f",
            "_dom_classes": [],
            "description": "",
            "_model_name": "HTMLModel",
            "placeholder": "​",
            "_view_module": "@jupyter-widgets/controls",
            "_model_module_version": "1.5.0",
            "value": " 26422272/? [00:00&lt;00:00, 67713142.13it/s]",
            "_view_count": null,
            "_view_module_version": "1.5.0",
            "description_tooltip": null,
            "_model_module": "@jupyter-widgets/controls",
            "layout": "IPY_MODEL_50791e44d424418583f1261f27165cd5"
          }
        },
        "7682ce052bea4fc29f7c7d04045bfc6e": {
          "model_module": "@jupyter-widgets/controls",
          "model_name": "DescriptionStyleModel",
          "model_module_version": "1.5.0",
          "state": {
            "_view_name": "StyleView",
            "_model_name": "DescriptionStyleModel",
            "description_width": "",
            "_view_module": "@jupyter-widgets/base",
            "_model_module_version": "1.5.0",
            "_view_count": null,
            "_view_module_version": "1.2.0",
            "_model_module": "@jupyter-widgets/controls"
          }
        },
        "0d98490407f540a68340cb01f43f7529": {
          "model_module": "@jupyter-widgets/base",
          "model_name": "LayoutModel",
          "model_module_version": "1.2.0",
          "state": {
            "_view_name": "LayoutView",
            "grid_template_rows": null,
            "right": null,
            "justify_content": null,
            "_view_module": "@jupyter-widgets/base",
            "overflow": null,
            "_model_module_version": "1.2.0",
            "_view_count": null,
            "flex_flow": null,
            "width": null,
            "min_width": null,
            "border": null,
            "align_items": null,
            "bottom": null,
            "_model_module": "@jupyter-widgets/base",
            "top": null,
            "grid_column": null,
            "overflow_y": null,
            "overflow_x": null,
            "grid_auto_flow": null,
            "grid_area": null,
            "grid_template_columns": null,
            "flex": null,
            "_model_name": "LayoutModel",
            "justify_items": null,
            "grid_row": null,
            "max_height": null,
            "align_content": null,
            "visibility": null,
            "align_self": null,
            "height": null,
            "min_height": null,
            "padding": null,
            "grid_auto_rows": null,
            "grid_gap": null,
            "max_width": null,
            "order": null,
            "_view_module_version": "1.2.0",
            "grid_template_areas": null,
            "object_position": null,
            "object_fit": null,
            "grid_auto_columns": null,
            "margin": null,
            "display": null,
            "left": null
          }
        },
        "017adbf2a764447fa5d6d8f2fdc5f8c0": {
          "model_module": "@jupyter-widgets/controls",
          "model_name": "ProgressStyleModel",
          "model_module_version": "1.5.0",
          "state": {
            "_view_name": "StyleView",
            "_model_name": "ProgressStyleModel",
            "description_width": "",
            "_view_module": "@jupyter-widgets/base",
            "_model_module_version": "1.5.0",
            "_view_count": null,
            "_view_module_version": "1.2.0",
            "bar_color": null,
            "_model_module": "@jupyter-widgets/controls"
          }
        },
        "bcffee0e4bda4a0ca3334566fe6ae1d6": {
          "model_module": "@jupyter-widgets/base",
          "model_name": "LayoutModel",
          "model_module_version": "1.2.0",
          "state": {
            "_view_name": "LayoutView",
            "grid_template_rows": null,
            "right": null,
            "justify_content": null,
            "_view_module": "@jupyter-widgets/base",
            "overflow": null,
            "_model_module_version": "1.2.0",
            "_view_count": null,
            "flex_flow": null,
            "width": null,
            "min_width": null,
            "border": null,
            "align_items": null,
            "bottom": null,
            "_model_module": "@jupyter-widgets/base",
            "top": null,
            "grid_column": null,
            "overflow_y": null,
            "overflow_x": null,
            "grid_auto_flow": null,
            "grid_area": null,
            "grid_template_columns": null,
            "flex": null,
            "_model_name": "LayoutModel",
            "justify_items": null,
            "grid_row": null,
            "max_height": null,
            "align_content": null,
            "visibility": null,
            "align_self": null,
            "height": null,
            "min_height": null,
            "padding": null,
            "grid_auto_rows": null,
            "grid_gap": null,
            "max_width": null,
            "order": null,
            "_view_module_version": "1.2.0",
            "grid_template_areas": null,
            "object_position": null,
            "object_fit": null,
            "grid_auto_columns": null,
            "margin": null,
            "display": null,
            "left": null
          }
        },
        "4df6215b065647fe814093ad57118c4f": {
          "model_module": "@jupyter-widgets/controls",
          "model_name": "DescriptionStyleModel",
          "model_module_version": "1.5.0",
          "state": {
            "_view_name": "StyleView",
            "_model_name": "DescriptionStyleModel",
            "description_width": "",
            "_view_module": "@jupyter-widgets/base",
            "_model_module_version": "1.5.0",
            "_view_count": null,
            "_view_module_version": "1.2.0",
            "_model_module": "@jupyter-widgets/controls"
          }
        },
        "50791e44d424418583f1261f27165cd5": {
          "model_module": "@jupyter-widgets/base",
          "model_name": "LayoutModel",
          "model_module_version": "1.2.0",
          "state": {
            "_view_name": "LayoutView",
            "grid_template_rows": null,
            "right": null,
            "justify_content": null,
            "_view_module": "@jupyter-widgets/base",
            "overflow": null,
            "_model_module_version": "1.2.0",
            "_view_count": null,
            "flex_flow": null,
            "width": null,
            "min_width": null,
            "border": null,
            "align_items": null,
            "bottom": null,
            "_model_module": "@jupyter-widgets/base",
            "top": null,
            "grid_column": null,
            "overflow_y": null,
            "overflow_x": null,
            "grid_auto_flow": null,
            "grid_area": null,
            "grid_template_columns": null,
            "flex": null,
            "_model_name": "LayoutModel",
            "justify_items": null,
            "grid_row": null,
            "max_height": null,
            "align_content": null,
            "visibility": null,
            "align_self": null,
            "height": null,
            "min_height": null,
            "padding": null,
            "grid_auto_rows": null,
            "grid_gap": null,
            "max_width": null,
            "order": null,
            "_view_module_version": "1.2.0",
            "grid_template_areas": null,
            "object_position": null,
            "object_fit": null,
            "grid_auto_columns": null,
            "margin": null,
            "display": null,
            "left": null
          }
        },
        "85fe8724bb2444438c700bf689090d13": {
          "model_module": "@jupyter-widgets/controls",
          "model_name": "HBoxModel",
          "model_module_version": "1.5.0",
          "state": {
            "_view_name": "HBoxView",
            "_dom_classes": [],
            "_model_name": "HBoxModel",
            "_view_module": "@jupyter-widgets/controls",
            "_model_module_version": "1.5.0",
            "_view_count": null,
            "_view_module_version": "1.5.0",
            "box_style": "",
            "layout": "IPY_MODEL_6c003dd2619f4d1aa32425196ec3479b",
            "_model_module": "@jupyter-widgets/controls",
            "children": [
              "IPY_MODEL_99cc52dc346d420ab061425d6dfcb9e1",
              "IPY_MODEL_2c42cd4a5e8845e4938cf57e4b2e0b44",
              "IPY_MODEL_c8001526af7f4508a1acd75504fbfef1"
            ]
          }
        },
        "6c003dd2619f4d1aa32425196ec3479b": {
          "model_module": "@jupyter-widgets/base",
          "model_name": "LayoutModel",
          "model_module_version": "1.2.0",
          "state": {
            "_view_name": "LayoutView",
            "grid_template_rows": null,
            "right": null,
            "justify_content": null,
            "_view_module": "@jupyter-widgets/base",
            "overflow": null,
            "_model_module_version": "1.2.0",
            "_view_count": null,
            "flex_flow": null,
            "width": null,
            "min_width": null,
            "border": null,
            "align_items": null,
            "bottom": null,
            "_model_module": "@jupyter-widgets/base",
            "top": null,
            "grid_column": null,
            "overflow_y": null,
            "overflow_x": null,
            "grid_auto_flow": null,
            "grid_area": null,
            "grid_template_columns": null,
            "flex": null,
            "_model_name": "LayoutModel",
            "justify_items": null,
            "grid_row": null,
            "max_height": null,
            "align_content": null,
            "visibility": null,
            "align_self": null,
            "height": null,
            "min_height": null,
            "padding": null,
            "grid_auto_rows": null,
            "grid_gap": null,
            "max_width": null,
            "order": null,
            "_view_module_version": "1.2.0",
            "grid_template_areas": null,
            "object_position": null,
            "object_fit": null,
            "grid_auto_columns": null,
            "margin": null,
            "display": null,
            "left": null
          }
        },
        "99cc52dc346d420ab061425d6dfcb9e1": {
          "model_module": "@jupyter-widgets/controls",
          "model_name": "HTMLModel",
          "model_module_version": "1.5.0",
          "state": {
            "_view_name": "HTMLView",
            "style": "IPY_MODEL_50c9e22771ae4b9594d1641967729d42",
            "_dom_classes": [],
            "description": "",
            "_model_name": "HTMLModel",
            "placeholder": "​",
            "_view_module": "@jupyter-widgets/controls",
            "_model_module_version": "1.5.0",
            "value": "",
            "_view_count": null,
            "_view_module_version": "1.5.0",
            "description_tooltip": null,
            "_model_module": "@jupyter-widgets/controls",
            "layout": "IPY_MODEL_5e22c53143a14436b04a289ab4b7f5ce"
          }
        },
        "2c42cd4a5e8845e4938cf57e4b2e0b44": {
          "model_module": "@jupyter-widgets/controls",
          "model_name": "FloatProgressModel",
          "model_module_version": "1.5.0",
          "state": {
            "_view_name": "ProgressView",
            "style": "IPY_MODEL_9e3d612e7136452b9419a958a6da7d85",
            "_dom_classes": [],
            "description": "",
            "_model_name": "FloatProgressModel",
            "bar_style": "success",
            "max": 29515,
            "_view_module": "@jupyter-widgets/controls",
            "_model_module_version": "1.5.0",
            "value": 29515,
            "_view_count": null,
            "_view_module_version": "1.5.0",
            "orientation": "horizontal",
            "min": 0,
            "description_tooltip": null,
            "_model_module": "@jupyter-widgets/controls",
            "layout": "IPY_MODEL_8ac548dde7de4ebda8951daa929c3ce2"
          }
        },
        "c8001526af7f4508a1acd75504fbfef1": {
          "model_module": "@jupyter-widgets/controls",
          "model_name": "HTMLModel",
          "model_module_version": "1.5.0",
          "state": {
            "_view_name": "HTMLView",
            "style": "IPY_MODEL_0cd4c10d0c7747c98d8d5011acfa2907",
            "_dom_classes": [],
            "description": "",
            "_model_name": "HTMLModel",
            "placeholder": "​",
            "_view_module": "@jupyter-widgets/controls",
            "_model_module_version": "1.5.0",
            "value": " 29696/? [00:00&lt;00:00, 685217.56it/s]",
            "_view_count": null,
            "_view_module_version": "1.5.0",
            "description_tooltip": null,
            "_model_module": "@jupyter-widgets/controls",
            "layout": "IPY_MODEL_d0f9aedf320f4062a6c87ed4ae400f0c"
          }
        },
        "50c9e22771ae4b9594d1641967729d42": {
          "model_module": "@jupyter-widgets/controls",
          "model_name": "DescriptionStyleModel",
          "model_module_version": "1.5.0",
          "state": {
            "_view_name": "StyleView",
            "_model_name": "DescriptionStyleModel",
            "description_width": "",
            "_view_module": "@jupyter-widgets/base",
            "_model_module_version": "1.5.0",
            "_view_count": null,
            "_view_module_version": "1.2.0",
            "_model_module": "@jupyter-widgets/controls"
          }
        },
        "5e22c53143a14436b04a289ab4b7f5ce": {
          "model_module": "@jupyter-widgets/base",
          "model_name": "LayoutModel",
          "model_module_version": "1.2.0",
          "state": {
            "_view_name": "LayoutView",
            "grid_template_rows": null,
            "right": null,
            "justify_content": null,
            "_view_module": "@jupyter-widgets/base",
            "overflow": null,
            "_model_module_version": "1.2.0",
            "_view_count": null,
            "flex_flow": null,
            "width": null,
            "min_width": null,
            "border": null,
            "align_items": null,
            "bottom": null,
            "_model_module": "@jupyter-widgets/base",
            "top": null,
            "grid_column": null,
            "overflow_y": null,
            "overflow_x": null,
            "grid_auto_flow": null,
            "grid_area": null,
            "grid_template_columns": null,
            "flex": null,
            "_model_name": "LayoutModel",
            "justify_items": null,
            "grid_row": null,
            "max_height": null,
            "align_content": null,
            "visibility": null,
            "align_self": null,
            "height": null,
            "min_height": null,
            "padding": null,
            "grid_auto_rows": null,
            "grid_gap": null,
            "max_width": null,
            "order": null,
            "_view_module_version": "1.2.0",
            "grid_template_areas": null,
            "object_position": null,
            "object_fit": null,
            "grid_auto_columns": null,
            "margin": null,
            "display": null,
            "left": null
          }
        },
        "9e3d612e7136452b9419a958a6da7d85": {
          "model_module": "@jupyter-widgets/controls",
          "model_name": "ProgressStyleModel",
          "model_module_version": "1.5.0",
          "state": {
            "_view_name": "StyleView",
            "_model_name": "ProgressStyleModel",
            "description_width": "",
            "_view_module": "@jupyter-widgets/base",
            "_model_module_version": "1.5.0",
            "_view_count": null,
            "_view_module_version": "1.2.0",
            "bar_color": null,
            "_model_module": "@jupyter-widgets/controls"
          }
        },
        "8ac548dde7de4ebda8951daa929c3ce2": {
          "model_module": "@jupyter-widgets/base",
          "model_name": "LayoutModel",
          "model_module_version": "1.2.0",
          "state": {
            "_view_name": "LayoutView",
            "grid_template_rows": null,
            "right": null,
            "justify_content": null,
            "_view_module": "@jupyter-widgets/base",
            "overflow": null,
            "_model_module_version": "1.2.0",
            "_view_count": null,
            "flex_flow": null,
            "width": null,
            "min_width": null,
            "border": null,
            "align_items": null,
            "bottom": null,
            "_model_module": "@jupyter-widgets/base",
            "top": null,
            "grid_column": null,
            "overflow_y": null,
            "overflow_x": null,
            "grid_auto_flow": null,
            "grid_area": null,
            "grid_template_columns": null,
            "flex": null,
            "_model_name": "LayoutModel",
            "justify_items": null,
            "grid_row": null,
            "max_height": null,
            "align_content": null,
            "visibility": null,
            "align_self": null,
            "height": null,
            "min_height": null,
            "padding": null,
            "grid_auto_rows": null,
            "grid_gap": null,
            "max_width": null,
            "order": null,
            "_view_module_version": "1.2.0",
            "grid_template_areas": null,
            "object_position": null,
            "object_fit": null,
            "grid_auto_columns": null,
            "margin": null,
            "display": null,
            "left": null
          }
        },
        "0cd4c10d0c7747c98d8d5011acfa2907": {
          "model_module": "@jupyter-widgets/controls",
          "model_name": "DescriptionStyleModel",
          "model_module_version": "1.5.0",
          "state": {
            "_view_name": "StyleView",
            "_model_name": "DescriptionStyleModel",
            "description_width": "",
            "_view_module": "@jupyter-widgets/base",
            "_model_module_version": "1.5.0",
            "_view_count": null,
            "_view_module_version": "1.2.0",
            "_model_module": "@jupyter-widgets/controls"
          }
        },
        "d0f9aedf320f4062a6c87ed4ae400f0c": {
          "model_module": "@jupyter-widgets/base",
          "model_name": "LayoutModel",
          "model_module_version": "1.2.0",
          "state": {
            "_view_name": "LayoutView",
            "grid_template_rows": null,
            "right": null,
            "justify_content": null,
            "_view_module": "@jupyter-widgets/base",
            "overflow": null,
            "_model_module_version": "1.2.0",
            "_view_count": null,
            "flex_flow": null,
            "width": null,
            "min_width": null,
            "border": null,
            "align_items": null,
            "bottom": null,
            "_model_module": "@jupyter-widgets/base",
            "top": null,
            "grid_column": null,
            "overflow_y": null,
            "overflow_x": null,
            "grid_auto_flow": null,
            "grid_area": null,
            "grid_template_columns": null,
            "flex": null,
            "_model_name": "LayoutModel",
            "justify_items": null,
            "grid_row": null,
            "max_height": null,
            "align_content": null,
            "visibility": null,
            "align_self": null,
            "height": null,
            "min_height": null,
            "padding": null,
            "grid_auto_rows": null,
            "grid_gap": null,
            "max_width": null,
            "order": null,
            "_view_module_version": "1.2.0",
            "grid_template_areas": null,
            "object_position": null,
            "object_fit": null,
            "grid_auto_columns": null,
            "margin": null,
            "display": null,
            "left": null
          }
        },
        "a40a8a39d6854003bd8c9a7c485ab2f4": {
          "model_module": "@jupyter-widgets/controls",
          "model_name": "HBoxModel",
          "model_module_version": "1.5.0",
          "state": {
            "_view_name": "HBoxView",
            "_dom_classes": [],
            "_model_name": "HBoxModel",
            "_view_module": "@jupyter-widgets/controls",
            "_model_module_version": "1.5.0",
            "_view_count": null,
            "_view_module_version": "1.5.0",
            "box_style": "",
            "layout": "IPY_MODEL_1ff62fd23f724cbcbcc70c08b0a379e3",
            "_model_module": "@jupyter-widgets/controls",
            "children": [
              "IPY_MODEL_0500007ea7e54cc7b7e0282824b7e2e4",
              "IPY_MODEL_b9209dc50c1243a0a70d4c2d48999ed4",
              "IPY_MODEL_dd264917ff17492d8377390bb5e55e14"
            ]
          }
        },
        "1ff62fd23f724cbcbcc70c08b0a379e3": {
          "model_module": "@jupyter-widgets/base",
          "model_name": "LayoutModel",
          "model_module_version": "1.2.0",
          "state": {
            "_view_name": "LayoutView",
            "grid_template_rows": null,
            "right": null,
            "justify_content": null,
            "_view_module": "@jupyter-widgets/base",
            "overflow": null,
            "_model_module_version": "1.2.0",
            "_view_count": null,
            "flex_flow": null,
            "width": null,
            "min_width": null,
            "border": null,
            "align_items": null,
            "bottom": null,
            "_model_module": "@jupyter-widgets/base",
            "top": null,
            "grid_column": null,
            "overflow_y": null,
            "overflow_x": null,
            "grid_auto_flow": null,
            "grid_area": null,
            "grid_template_columns": null,
            "flex": null,
            "_model_name": "LayoutModel",
            "justify_items": null,
            "grid_row": null,
            "max_height": null,
            "align_content": null,
            "visibility": null,
            "align_self": null,
            "height": null,
            "min_height": null,
            "padding": null,
            "grid_auto_rows": null,
            "grid_gap": null,
            "max_width": null,
            "order": null,
            "_view_module_version": "1.2.0",
            "grid_template_areas": null,
            "object_position": null,
            "object_fit": null,
            "grid_auto_columns": null,
            "margin": null,
            "display": null,
            "left": null
          }
        },
        "0500007ea7e54cc7b7e0282824b7e2e4": {
          "model_module": "@jupyter-widgets/controls",
          "model_name": "HTMLModel",
          "model_module_version": "1.5.0",
          "state": {
            "_view_name": "HTMLView",
            "style": "IPY_MODEL_20d77744b5514230ad0a21d9400741f8",
            "_dom_classes": [],
            "description": "",
            "_model_name": "HTMLModel",
            "placeholder": "​",
            "_view_module": "@jupyter-widgets/controls",
            "_model_module_version": "1.5.0",
            "value": "",
            "_view_count": null,
            "_view_module_version": "1.5.0",
            "description_tooltip": null,
            "_model_module": "@jupyter-widgets/controls",
            "layout": "IPY_MODEL_b8d550a83d124388a0506c61df93fddd"
          }
        },
        "b9209dc50c1243a0a70d4c2d48999ed4": {
          "model_module": "@jupyter-widgets/controls",
          "model_name": "FloatProgressModel",
          "model_module_version": "1.5.0",
          "state": {
            "_view_name": "ProgressView",
            "style": "IPY_MODEL_9b6fc9770406488d82bbe1c360cdd824",
            "_dom_classes": [],
            "description": "",
            "_model_name": "FloatProgressModel",
            "bar_style": "success",
            "max": 4422102,
            "_view_module": "@jupyter-widgets/controls",
            "_model_module_version": "1.5.0",
            "value": 4422102,
            "_view_count": null,
            "_view_module_version": "1.5.0",
            "orientation": "horizontal",
            "min": 0,
            "description_tooltip": null,
            "_model_module": "@jupyter-widgets/controls",
            "layout": "IPY_MODEL_b7f2dde14866491291e10eda43fba90b"
          }
        },
        "dd264917ff17492d8377390bb5e55e14": {
          "model_module": "@jupyter-widgets/controls",
          "model_name": "HTMLModel",
          "model_module_version": "1.5.0",
          "state": {
            "_view_name": "HTMLView",
            "style": "IPY_MODEL_06693132dd764692acae2fb3c69f81e4",
            "_dom_classes": [],
            "description": "",
            "_model_name": "HTMLModel",
            "placeholder": "​",
            "_view_module": "@jupyter-widgets/controls",
            "_model_module_version": "1.5.0",
            "value": " 4422656/? [00:00&lt;00:00, 13106837.51it/s]",
            "_view_count": null,
            "_view_module_version": "1.5.0",
            "description_tooltip": null,
            "_model_module": "@jupyter-widgets/controls",
            "layout": "IPY_MODEL_d04f1c428b574b24a68b260908d7fd0c"
          }
        },
        "20d77744b5514230ad0a21d9400741f8": {
          "model_module": "@jupyter-widgets/controls",
          "model_name": "DescriptionStyleModel",
          "model_module_version": "1.5.0",
          "state": {
            "_view_name": "StyleView",
            "_model_name": "DescriptionStyleModel",
            "description_width": "",
            "_view_module": "@jupyter-widgets/base",
            "_model_module_version": "1.5.0",
            "_view_count": null,
            "_view_module_version": "1.2.0",
            "_model_module": "@jupyter-widgets/controls"
          }
        },
        "b8d550a83d124388a0506c61df93fddd": {
          "model_module": "@jupyter-widgets/base",
          "model_name": "LayoutModel",
          "model_module_version": "1.2.0",
          "state": {
            "_view_name": "LayoutView",
            "grid_template_rows": null,
            "right": null,
            "justify_content": null,
            "_view_module": "@jupyter-widgets/base",
            "overflow": null,
            "_model_module_version": "1.2.0",
            "_view_count": null,
            "flex_flow": null,
            "width": null,
            "min_width": null,
            "border": null,
            "align_items": null,
            "bottom": null,
            "_model_module": "@jupyter-widgets/base",
            "top": null,
            "grid_column": null,
            "overflow_y": null,
            "overflow_x": null,
            "grid_auto_flow": null,
            "grid_area": null,
            "grid_template_columns": null,
            "flex": null,
            "_model_name": "LayoutModel",
            "justify_items": null,
            "grid_row": null,
            "max_height": null,
            "align_content": null,
            "visibility": null,
            "align_self": null,
            "height": null,
            "min_height": null,
            "padding": null,
            "grid_auto_rows": null,
            "grid_gap": null,
            "max_width": null,
            "order": null,
            "_view_module_version": "1.2.0",
            "grid_template_areas": null,
            "object_position": null,
            "object_fit": null,
            "grid_auto_columns": null,
            "margin": null,
            "display": null,
            "left": null
          }
        },
        "9b6fc9770406488d82bbe1c360cdd824": {
          "model_module": "@jupyter-widgets/controls",
          "model_name": "ProgressStyleModel",
          "model_module_version": "1.5.0",
          "state": {
            "_view_name": "StyleView",
            "_model_name": "ProgressStyleModel",
            "description_width": "",
            "_view_module": "@jupyter-widgets/base",
            "_model_module_version": "1.5.0",
            "_view_count": null,
            "_view_module_version": "1.2.0",
            "bar_color": null,
            "_model_module": "@jupyter-widgets/controls"
          }
        },
        "b7f2dde14866491291e10eda43fba90b": {
          "model_module": "@jupyter-widgets/base",
          "model_name": "LayoutModel",
          "model_module_version": "1.2.0",
          "state": {
            "_view_name": "LayoutView",
            "grid_template_rows": null,
            "right": null,
            "justify_content": null,
            "_view_module": "@jupyter-widgets/base",
            "overflow": null,
            "_model_module_version": "1.2.0",
            "_view_count": null,
            "flex_flow": null,
            "width": null,
            "min_width": null,
            "border": null,
            "align_items": null,
            "bottom": null,
            "_model_module": "@jupyter-widgets/base",
            "top": null,
            "grid_column": null,
            "overflow_y": null,
            "overflow_x": null,
            "grid_auto_flow": null,
            "grid_area": null,
            "grid_template_columns": null,
            "flex": null,
            "_model_name": "LayoutModel",
            "justify_items": null,
            "grid_row": null,
            "max_height": null,
            "align_content": null,
            "visibility": null,
            "align_self": null,
            "height": null,
            "min_height": null,
            "padding": null,
            "grid_auto_rows": null,
            "grid_gap": null,
            "max_width": null,
            "order": null,
            "_view_module_version": "1.2.0",
            "grid_template_areas": null,
            "object_position": null,
            "object_fit": null,
            "grid_auto_columns": null,
            "margin": null,
            "display": null,
            "left": null
          }
        },
        "06693132dd764692acae2fb3c69f81e4": {
          "model_module": "@jupyter-widgets/controls",
          "model_name": "DescriptionStyleModel",
          "model_module_version": "1.5.0",
          "state": {
            "_view_name": "StyleView",
            "_model_name": "DescriptionStyleModel",
            "description_width": "",
            "_view_module": "@jupyter-widgets/base",
            "_model_module_version": "1.5.0",
            "_view_count": null,
            "_view_module_version": "1.2.0",
            "_model_module": "@jupyter-widgets/controls"
          }
        },
        "d04f1c428b574b24a68b260908d7fd0c": {
          "model_module": "@jupyter-widgets/base",
          "model_name": "LayoutModel",
          "model_module_version": "1.2.0",
          "state": {
            "_view_name": "LayoutView",
            "grid_template_rows": null,
            "right": null,
            "justify_content": null,
            "_view_module": "@jupyter-widgets/base",
            "overflow": null,
            "_model_module_version": "1.2.0",
            "_view_count": null,
            "flex_flow": null,
            "width": null,
            "min_width": null,
            "border": null,
            "align_items": null,
            "bottom": null,
            "_model_module": "@jupyter-widgets/base",
            "top": null,
            "grid_column": null,
            "overflow_y": null,
            "overflow_x": null,
            "grid_auto_flow": null,
            "grid_area": null,
            "grid_template_columns": null,
            "flex": null,
            "_model_name": "LayoutModel",
            "justify_items": null,
            "grid_row": null,
            "max_height": null,
            "align_content": null,
            "visibility": null,
            "align_self": null,
            "height": null,
            "min_height": null,
            "padding": null,
            "grid_auto_rows": null,
            "grid_gap": null,
            "max_width": null,
            "order": null,
            "_view_module_version": "1.2.0",
            "grid_template_areas": null,
            "object_position": null,
            "object_fit": null,
            "grid_auto_columns": null,
            "margin": null,
            "display": null,
            "left": null
          }
        },
        "d1cd3fe93c864e77b33887021752d66f": {
          "model_module": "@jupyter-widgets/controls",
          "model_name": "HBoxModel",
          "model_module_version": "1.5.0",
          "state": {
            "_view_name": "HBoxView",
            "_dom_classes": [],
            "_model_name": "HBoxModel",
            "_view_module": "@jupyter-widgets/controls",
            "_model_module_version": "1.5.0",
            "_view_count": null,
            "_view_module_version": "1.5.0",
            "box_style": "",
            "layout": "IPY_MODEL_246f698160be4c8c9bf63ce656137e1f",
            "_model_module": "@jupyter-widgets/controls",
            "children": [
              "IPY_MODEL_29e7188922174eaa909d573dbe9fcc0a",
              "IPY_MODEL_66362db47fb34684939eeeadaadbf981",
              "IPY_MODEL_0c3818e760524dc798bb90445a3ebf7f"
            ]
          }
        },
        "246f698160be4c8c9bf63ce656137e1f": {
          "model_module": "@jupyter-widgets/base",
          "model_name": "LayoutModel",
          "model_module_version": "1.2.0",
          "state": {
            "_view_name": "LayoutView",
            "grid_template_rows": null,
            "right": null,
            "justify_content": null,
            "_view_module": "@jupyter-widgets/base",
            "overflow": null,
            "_model_module_version": "1.2.0",
            "_view_count": null,
            "flex_flow": null,
            "width": null,
            "min_width": null,
            "border": null,
            "align_items": null,
            "bottom": null,
            "_model_module": "@jupyter-widgets/base",
            "top": null,
            "grid_column": null,
            "overflow_y": null,
            "overflow_x": null,
            "grid_auto_flow": null,
            "grid_area": null,
            "grid_template_columns": null,
            "flex": null,
            "_model_name": "LayoutModel",
            "justify_items": null,
            "grid_row": null,
            "max_height": null,
            "align_content": null,
            "visibility": null,
            "align_self": null,
            "height": null,
            "min_height": null,
            "padding": null,
            "grid_auto_rows": null,
            "grid_gap": null,
            "max_width": null,
            "order": null,
            "_view_module_version": "1.2.0",
            "grid_template_areas": null,
            "object_position": null,
            "object_fit": null,
            "grid_auto_columns": null,
            "margin": null,
            "display": null,
            "left": null
          }
        },
        "29e7188922174eaa909d573dbe9fcc0a": {
          "model_module": "@jupyter-widgets/controls",
          "model_name": "HTMLModel",
          "model_module_version": "1.5.0",
          "state": {
            "_view_name": "HTMLView",
            "style": "IPY_MODEL_06bad4528ff04b379ac91bd1d63d6b6e",
            "_dom_classes": [],
            "description": "",
            "_model_name": "HTMLModel",
            "placeholder": "​",
            "_view_module": "@jupyter-widgets/controls",
            "_model_module_version": "1.5.0",
            "value": "",
            "_view_count": null,
            "_view_module_version": "1.5.0",
            "description_tooltip": null,
            "_model_module": "@jupyter-widgets/controls",
            "layout": "IPY_MODEL_8b2a252cf6044358abff8ed062e2aa7c"
          }
        },
        "66362db47fb34684939eeeadaadbf981": {
          "model_module": "@jupyter-widgets/controls",
          "model_name": "FloatProgressModel",
          "model_module_version": "1.5.0",
          "state": {
            "_view_name": "ProgressView",
            "style": "IPY_MODEL_912d5239912746b183b63a275d60d62d",
            "_dom_classes": [],
            "description": "",
            "_model_name": "FloatProgressModel",
            "bar_style": "success",
            "max": 5148,
            "_view_module": "@jupyter-widgets/controls",
            "_model_module_version": "1.5.0",
            "value": 5148,
            "_view_count": null,
            "_view_module_version": "1.5.0",
            "orientation": "horizontal",
            "min": 0,
            "description_tooltip": null,
            "_model_module": "@jupyter-widgets/controls",
            "layout": "IPY_MODEL_4b92d574df8a4dcd8708accbe0f9bd0f"
          }
        },
        "0c3818e760524dc798bb90445a3ebf7f": {
          "model_module": "@jupyter-widgets/controls",
          "model_name": "HTMLModel",
          "model_module_version": "1.5.0",
          "state": {
            "_view_name": "HTMLView",
            "style": "IPY_MODEL_ff3cb2d62ee54074a8d8cf17fd73cb5c",
            "_dom_classes": [],
            "description": "",
            "_model_name": "HTMLModel",
            "placeholder": "​",
            "_view_module": "@jupyter-widgets/controls",
            "_model_module_version": "1.5.0",
            "value": " 6144/? [00:00&lt;00:00, 151896.23it/s]",
            "_view_count": null,
            "_view_module_version": "1.5.0",
            "description_tooltip": null,
            "_model_module": "@jupyter-widgets/controls",
            "layout": "IPY_MODEL_5d12f19278e4436faafa4415efb38cde"
          }
        },
        "06bad4528ff04b379ac91bd1d63d6b6e": {
          "model_module": "@jupyter-widgets/controls",
          "model_name": "DescriptionStyleModel",
          "model_module_version": "1.5.0",
          "state": {
            "_view_name": "StyleView",
            "_model_name": "DescriptionStyleModel",
            "description_width": "",
            "_view_module": "@jupyter-widgets/base",
            "_model_module_version": "1.5.0",
            "_view_count": null,
            "_view_module_version": "1.2.0",
            "_model_module": "@jupyter-widgets/controls"
          }
        },
        "8b2a252cf6044358abff8ed062e2aa7c": {
          "model_module": "@jupyter-widgets/base",
          "model_name": "LayoutModel",
          "model_module_version": "1.2.0",
          "state": {
            "_view_name": "LayoutView",
            "grid_template_rows": null,
            "right": null,
            "justify_content": null,
            "_view_module": "@jupyter-widgets/base",
            "overflow": null,
            "_model_module_version": "1.2.0",
            "_view_count": null,
            "flex_flow": null,
            "width": null,
            "min_width": null,
            "border": null,
            "align_items": null,
            "bottom": null,
            "_model_module": "@jupyter-widgets/base",
            "top": null,
            "grid_column": null,
            "overflow_y": null,
            "overflow_x": null,
            "grid_auto_flow": null,
            "grid_area": null,
            "grid_template_columns": null,
            "flex": null,
            "_model_name": "LayoutModel",
            "justify_items": null,
            "grid_row": null,
            "max_height": null,
            "align_content": null,
            "visibility": null,
            "align_self": null,
            "height": null,
            "min_height": null,
            "padding": null,
            "grid_auto_rows": null,
            "grid_gap": null,
            "max_width": null,
            "order": null,
            "_view_module_version": "1.2.0",
            "grid_template_areas": null,
            "object_position": null,
            "object_fit": null,
            "grid_auto_columns": null,
            "margin": null,
            "display": null,
            "left": null
          }
        },
        "912d5239912746b183b63a275d60d62d": {
          "model_module": "@jupyter-widgets/controls",
          "model_name": "ProgressStyleModel",
          "model_module_version": "1.5.0",
          "state": {
            "_view_name": "StyleView",
            "_model_name": "ProgressStyleModel",
            "description_width": "",
            "_view_module": "@jupyter-widgets/base",
            "_model_module_version": "1.5.0",
            "_view_count": null,
            "_view_module_version": "1.2.0",
            "bar_color": null,
            "_model_module": "@jupyter-widgets/controls"
          }
        },
        "4b92d574df8a4dcd8708accbe0f9bd0f": {
          "model_module": "@jupyter-widgets/base",
          "model_name": "LayoutModel",
          "model_module_version": "1.2.0",
          "state": {
            "_view_name": "LayoutView",
            "grid_template_rows": null,
            "right": null,
            "justify_content": null,
            "_view_module": "@jupyter-widgets/base",
            "overflow": null,
            "_model_module_version": "1.2.0",
            "_view_count": null,
            "flex_flow": null,
            "width": null,
            "min_width": null,
            "border": null,
            "align_items": null,
            "bottom": null,
            "_model_module": "@jupyter-widgets/base",
            "top": null,
            "grid_column": null,
            "overflow_y": null,
            "overflow_x": null,
            "grid_auto_flow": null,
            "grid_area": null,
            "grid_template_columns": null,
            "flex": null,
            "_model_name": "LayoutModel",
            "justify_items": null,
            "grid_row": null,
            "max_height": null,
            "align_content": null,
            "visibility": null,
            "align_self": null,
            "height": null,
            "min_height": null,
            "padding": null,
            "grid_auto_rows": null,
            "grid_gap": null,
            "max_width": null,
            "order": null,
            "_view_module_version": "1.2.0",
            "grid_template_areas": null,
            "object_position": null,
            "object_fit": null,
            "grid_auto_columns": null,
            "margin": null,
            "display": null,
            "left": null
          }
        },
        "ff3cb2d62ee54074a8d8cf17fd73cb5c": {
          "model_module": "@jupyter-widgets/controls",
          "model_name": "DescriptionStyleModel",
          "model_module_version": "1.5.0",
          "state": {
            "_view_name": "StyleView",
            "_model_name": "DescriptionStyleModel",
            "description_width": "",
            "_view_module": "@jupyter-widgets/base",
            "_model_module_version": "1.5.0",
            "_view_count": null,
            "_view_module_version": "1.2.0",
            "_model_module": "@jupyter-widgets/controls"
          }
        },
        "5d12f19278e4436faafa4415efb38cde": {
          "model_module": "@jupyter-widgets/base",
          "model_name": "LayoutModel",
          "model_module_version": "1.2.0",
          "state": {
            "_view_name": "LayoutView",
            "grid_template_rows": null,
            "right": null,
            "justify_content": null,
            "_view_module": "@jupyter-widgets/base",
            "overflow": null,
            "_model_module_version": "1.2.0",
            "_view_count": null,
            "flex_flow": null,
            "width": null,
            "min_width": null,
            "border": null,
            "align_items": null,
            "bottom": null,
            "_model_module": "@jupyter-widgets/base",
            "top": null,
            "grid_column": null,
            "overflow_y": null,
            "overflow_x": null,
            "grid_auto_flow": null,
            "grid_area": null,
            "grid_template_columns": null,
            "flex": null,
            "_model_name": "LayoutModel",
            "justify_items": null,
            "grid_row": null,
            "max_height": null,
            "align_content": null,
            "visibility": null,
            "align_self": null,
            "height": null,
            "min_height": null,
            "padding": null,
            "grid_auto_rows": null,
            "grid_gap": null,
            "max_width": null,
            "order": null,
            "_view_module_version": "1.2.0",
            "grid_template_areas": null,
            "object_position": null,
            "object_fit": null,
            "grid_auto_columns": null,
            "margin": null,
            "display": null,
            "left": null
          }
        }
      }
    }
  },
  "cells": [
    {
      "cell_type": "markdown",
      "metadata": {
        "id": "73554d38"
      },
      "source": [
        "<table align=\"left\">\n",
        "    <td>\n",
        "<a href=\"https://colab.research.google.com/github/epearcecrump/Fashion-MNIST/blob/main/imageClassification.ipynb\">\n",
        "  <img src=\"https://colab.research.google.com/assets/colab-badge.svg\" alt=\"Open In Colab\"/>\n",
        "</a>\n",
        "    </td>\n",
        "</table>"
      ],
      "id": "73554d38"
    },
    {
      "cell_type": "markdown",
      "metadata": {
        "id": "ff4e5d13"
      },
      "source": [
        "# Image Classification in `PyTorch`.\n",
        "\n",
        "In this notebook, we are going to develop a neural network model for classify images from the Fashion-MNIST dataset."
      ],
      "id": "ff4e5d13"
    },
    {
      "cell_type": "code",
      "metadata": {
        "id": "9c306927"
      },
      "source": [
        "# Import libraries\n",
        "import torch\n",
        "import torch.nn as nn\n",
        "import torch.nn.functional as F\n",
        "import torch.optim as optim\n",
        "import torchvision\n",
        "import torchvision.transforms as transforms\n",
        "import numpy as np \n",
        "import matplotlib.pyplot as plt\n",
        "import time\n",
        "import random\n",
        "import itertools\n",
        "from sklearn import metrics"
      ],
      "id": "9c306927",
      "execution_count": 1,
      "outputs": []
    },
    {
      "cell_type": "markdown",
      "metadata": {
        "id": "f689b047"
      },
      "source": [
        "## 1. Load and visualise the data.\n",
        "\n",
        "The dataset is prepared in a similar way to MNIST. It is split into a set of 60,000 training images and a set of 10,000 test images. The images are of size 28x28 pixels.\n",
        "\n",
        "There are 10 label classes in total, which are:\n",
        "* 0: T-shirt/top\n",
        "* 1: Trousers\n",
        "* 2: Pullover\n",
        "* 3: Dress\n",
        "* 4: Coat\n",
        "* 5: Sandal\n",
        "* 6: Shirt\n",
        "* 7: Sneaker\n",
        "* 8: Bag\n",
        "* 9: Ankle boot"
      ],
      "id": "f689b047"
    },
    {
      "cell_type": "code",
      "metadata": {
        "id": "63a7e431",
        "outputId": "18c01d2a-04d1-4893-ad44-d270c103200c",
        "colab": {
          "base_uri": "https://localhost:8080/",
          "height": 488,
          "referenced_widgets": [
            "bc64f7cf94094ac78cedb0ea658e43d9",
            "06281b1c0b9b4dc39843eb6b2ef034b3",
            "debef1a22fe44e5d9997c851b3e53299",
            "cf978f6cc853436e8dd8dd3fc06a072b",
            "529f05b50c644f74bea8e96941ab46c0",
            "7682ce052bea4fc29f7c7d04045bfc6e",
            "0d98490407f540a68340cb01f43f7529",
            "017adbf2a764447fa5d6d8f2fdc5f8c0",
            "bcffee0e4bda4a0ca3334566fe6ae1d6",
            "4df6215b065647fe814093ad57118c4f",
            "50791e44d424418583f1261f27165cd5",
            "85fe8724bb2444438c700bf689090d13",
            "6c003dd2619f4d1aa32425196ec3479b",
            "99cc52dc346d420ab061425d6dfcb9e1",
            "2c42cd4a5e8845e4938cf57e4b2e0b44",
            "c8001526af7f4508a1acd75504fbfef1",
            "50c9e22771ae4b9594d1641967729d42",
            "5e22c53143a14436b04a289ab4b7f5ce",
            "9e3d612e7136452b9419a958a6da7d85",
            "8ac548dde7de4ebda8951daa929c3ce2",
            "0cd4c10d0c7747c98d8d5011acfa2907",
            "d0f9aedf320f4062a6c87ed4ae400f0c",
            "a40a8a39d6854003bd8c9a7c485ab2f4",
            "1ff62fd23f724cbcbcc70c08b0a379e3",
            "0500007ea7e54cc7b7e0282824b7e2e4",
            "b9209dc50c1243a0a70d4c2d48999ed4",
            "dd264917ff17492d8377390bb5e55e14",
            "20d77744b5514230ad0a21d9400741f8",
            "b8d550a83d124388a0506c61df93fddd",
            "9b6fc9770406488d82bbe1c360cdd824",
            "b7f2dde14866491291e10eda43fba90b",
            "06693132dd764692acae2fb3c69f81e4",
            "d04f1c428b574b24a68b260908d7fd0c",
            "d1cd3fe93c864e77b33887021752d66f",
            "246f698160be4c8c9bf63ce656137e1f",
            "29e7188922174eaa909d573dbe9fcc0a",
            "66362db47fb34684939eeeadaadbf981",
            "0c3818e760524dc798bb90445a3ebf7f",
            "06bad4528ff04b379ac91bd1d63d6b6e",
            "8b2a252cf6044358abff8ed062e2aa7c",
            "912d5239912746b183b63a275d60d62d",
            "4b92d574df8a4dcd8708accbe0f9bd0f",
            "ff3cb2d62ee54074a8d8cf17fd73cb5c",
            "5d12f19278e4436faafa4415efb38cde"
          ]
        }
      },
      "source": [
        "# Load data\n",
        "train_set = torchvision.datasets.FashionMNIST(root='.', download=True, train=True)\n",
        "train_image = np.array(train_set.data)\n",
        "train_label = np.array(train_set.targets)\n",
        "class_name = train_set.classes\n",
        "print(f\"List of class names: {class_name}\")\n",
        "\n",
        "test_set = torchvision.datasets.FashionMNIST(root='.', download=True, train=False)\n",
        "test_image = np.array(test_set.data)\n",
        "test_label = np.array(test_set.targets)"
      ],
      "id": "63a7e431",
      "execution_count": 2,
      "outputs": [
        {
          "output_type": "stream",
          "name": "stdout",
          "text": [
            "Downloading http://fashion-mnist.s3-website.eu-central-1.amazonaws.com/train-images-idx3-ubyte.gz\n",
            "Downloading http://fashion-mnist.s3-website.eu-central-1.amazonaws.com/train-images-idx3-ubyte.gz to ./FashionMNIST/raw/train-images-idx3-ubyte.gz\n"
          ]
        },
        {
          "output_type": "display_data",
          "data": {
            "application/vnd.jupyter.widget-view+json": {
              "model_id": "bc64f7cf94094ac78cedb0ea658e43d9",
              "version_minor": 0,
              "version_major": 2
            },
            "text/plain": [
              "  0%|          | 0/26421880 [00:00<?, ?it/s]"
            ]
          },
          "metadata": {}
        },
        {
          "output_type": "stream",
          "name": "stdout",
          "text": [
            "Extracting ./FashionMNIST/raw/train-images-idx3-ubyte.gz to ./FashionMNIST/raw\n",
            "\n",
            "Downloading http://fashion-mnist.s3-website.eu-central-1.amazonaws.com/train-labels-idx1-ubyte.gz\n",
            "Downloading http://fashion-mnist.s3-website.eu-central-1.amazonaws.com/train-labels-idx1-ubyte.gz to ./FashionMNIST/raw/train-labels-idx1-ubyte.gz\n"
          ]
        },
        {
          "output_type": "display_data",
          "data": {
            "application/vnd.jupyter.widget-view+json": {
              "model_id": "85fe8724bb2444438c700bf689090d13",
              "version_minor": 0,
              "version_major": 2
            },
            "text/plain": [
              "  0%|          | 0/29515 [00:00<?, ?it/s]"
            ]
          },
          "metadata": {}
        },
        {
          "output_type": "stream",
          "name": "stdout",
          "text": [
            "Extracting ./FashionMNIST/raw/train-labels-idx1-ubyte.gz to ./FashionMNIST/raw\n",
            "\n",
            "Downloading http://fashion-mnist.s3-website.eu-central-1.amazonaws.com/t10k-images-idx3-ubyte.gz\n",
            "Downloading http://fashion-mnist.s3-website.eu-central-1.amazonaws.com/t10k-images-idx3-ubyte.gz to ./FashionMNIST/raw/t10k-images-idx3-ubyte.gz\n"
          ]
        },
        {
          "output_type": "display_data",
          "data": {
            "application/vnd.jupyter.widget-view+json": {
              "model_id": "a40a8a39d6854003bd8c9a7c485ab2f4",
              "version_minor": 0,
              "version_major": 2
            },
            "text/plain": [
              "  0%|          | 0/4422102 [00:00<?, ?it/s]"
            ]
          },
          "metadata": {}
        },
        {
          "output_type": "stream",
          "name": "stdout",
          "text": [
            "Extracting ./FashionMNIST/raw/t10k-images-idx3-ubyte.gz to ./FashionMNIST/raw\n",
            "\n",
            "Downloading http://fashion-mnist.s3-website.eu-central-1.amazonaws.com/t10k-labels-idx1-ubyte.gz\n",
            "Downloading http://fashion-mnist.s3-website.eu-central-1.amazonaws.com/t10k-labels-idx1-ubyte.gz to ./FashionMNIST/raw/t10k-labels-idx1-ubyte.gz\n"
          ]
        },
        {
          "output_type": "display_data",
          "data": {
            "application/vnd.jupyter.widget-view+json": {
              "model_id": "d1cd3fe93c864e77b33887021752d66f",
              "version_minor": 0,
              "version_major": 2
            },
            "text/plain": [
              "  0%|          | 0/5148 [00:00<?, ?it/s]"
            ]
          },
          "metadata": {}
        },
        {
          "output_type": "stream",
          "name": "stdout",
          "text": [
            "Extracting ./FashionMNIST/raw/t10k-labels-idx1-ubyte.gz to ./FashionMNIST/raw\n",
            "\n",
            "List of class names: ['T-shirt/top', 'Trouser', 'Pullover', 'Dress', 'Coat', 'Sandal', 'Shirt', 'Sneaker', 'Bag', 'Ankle boot']\n"
          ]
        },
        {
          "output_type": "stream",
          "name": "stderr",
          "text": [
            "/usr/local/lib/python3.7/dist-packages/torchvision/datasets/mnist.py:498: UserWarning: The given NumPy array is not writeable, and PyTorch does not support non-writeable tensors. This means you can write to the underlying (supposedly non-writeable) NumPy array using the tensor. You may want to copy the array to protect its data or make it writeable before converting it to a tensor. This type of warning will be suppressed for the rest of this program. (Triggered internally at  /pytorch/torch/csrc/utils/tensor_numpy.cpp:180.)\n",
            "  return torch.from_numpy(parsed.astype(m[2], copy=False)).view(*s)\n"
          ]
        }
      ]
    },
    {
      "cell_type": "markdown",
      "metadata": {
        "id": "7193bdc4"
      },
      "source": [
        "### Display the dimension of the training and test sets."
      ],
      "id": "7193bdc4"
    },
    {
      "cell_type": "code",
      "metadata": {
        "id": "3799050b",
        "outputId": "32d45364-b513-46e5-ceaa-24794fe1cf05",
        "colab": {
          "base_uri": "https://localhost:8080/"
        }
      },
      "source": [
        "print(f\"The shape of train_image is {train_image.shape}\")\n",
        "print(f\"The shape of train_label is {train_label.shape}\")\n",
        "print(f\"The shape of test_image is {test_image.shape}\")\n",
        "print(f\"The shape of test_label is {test_label.shape}\")"
      ],
      "id": "3799050b",
      "execution_count": 3,
      "outputs": [
        {
          "output_type": "stream",
          "name": "stdout",
          "text": [
            "The shape of train_image is (60000, 28, 28)\n",
            "The shape of train_label is (60000,)\n",
            "The shape of test_image is (10000, 28, 28)\n",
            "The shape of test_label is (10000,)\n"
          ]
        }
      ]
    },
    {
      "cell_type": "markdown",
      "metadata": {
        "id": "8a20209e"
      },
      "source": [
        "### Visualise sample images from the dataset with their respective labels."
      ],
      "id": "8a20209e"
    },
    {
      "cell_type": "code",
      "metadata": {
        "id": "0658b243",
        "outputId": "0bd3fe00-c852-4adb-c3c2-937c67334300",
        "colab": {
          "base_uri": "https://localhost:8080/",
          "height": 297
        }
      },
      "source": [
        "num_rows = 5\n",
        "num_cols = 5\n",
        "num_images = num_rows * num_cols\n",
        "for i in range(num_images):\n",
        "    plt.subplot(num_rows,num_cols,i+1)\n",
        "    plt.imshow((train_image[i]), cmap='binary')\n",
        "    plt.axis(\"off\")\n",
        "    plt.title(class_name[train_label[i]])\n",
        "plt.tight_layout()\n",
        "plt.show()"
      ],
      "id": "0658b243",
      "execution_count": 4,
      "outputs": [
        {
          "output_type": "display_data",
          "data": {
            "image/png": "[encoded data removed]",
            "text/plain": [
              "<Figure size 432x288 with 25 Axes>"
            ]
          },
          "metadata": {
            "needs_background": "light"
          }
        }
      ]
    },
    {
      "cell_type": "markdown",
      "metadata": {
        "id": "de67aa72"
      },
      "source": [
        "### Display the number of training samples for each class."
      ],
      "id": "de67aa72"
    },
    {
      "cell_type": "code",
      "metadata": {
        "id": "2f09baac",
        "outputId": "0ff29129-a081-4ff3-e8e1-a6e7445eb879",
        "colab": {
          "base_uri": "https://localhost:8080/"
        }
      },
      "source": [
        "_ , counts = np.unique(train_label, return_counts = True)\n",
        "dictionary = dict(zip(class_name, counts))\n",
        "print(f\"The number of training samples for each class is {dictionary}.\")"
      ],
      "id": "2f09baac",
      "execution_count": 5,
      "outputs": [
        {
          "output_type": "stream",
          "name": "stdout",
          "text": [
            "The number of training samples for each class is {'T-shirt/top': 6000, 'Trouser': 6000, 'Pullover': 6000, 'Dress': 6000, 'Coat': 6000, 'Sandal': 6000, 'Shirt': 6000, 'Sneaker': 6000, 'Bag': 6000, 'Ankle boot': 6000}.\n"
          ]
        }
      ]
    },
    {
      "cell_type": "markdown",
      "metadata": {
        "id": "6dc41176"
      },
      "source": [
        "### Expand the dimensions of train_image and test_image."
      ],
      "id": "6dc41176"
    },
    {
      "cell_type": "code",
      "metadata": {
        "id": "61a155bf",
        "outputId": "e2122710-27cd-4198-c87f-9a8ab792ce68",
        "colab": {
          "base_uri": "https://localhost:8080/"
        }
      },
      "source": [
        "train_image = np.expand_dims(train_image, axis=1)\n",
        "test_image = np.expand_dims(test_image, axis=1)\n",
        "\n",
        "print(f\"The shape of train_image is {train_image.shape}\")\n",
        "print(f\"The shape of test_image is {test_image.shape}\")"
      ],
      "id": "61a155bf",
      "execution_count": 6,
      "outputs": [
        {
          "output_type": "stream",
          "name": "stdout",
          "text": [
            "The shape of train_image is (60000, 1, 28, 28)\n",
            "The shape of test_image is (10000, 1, 28, 28)\n"
          ]
        }
      ]
    },
    {
      "cell_type": "markdown",
      "metadata": {
        "id": "a2a6c86d"
      },
      "source": [
        "## 2. Creating and evaluating a Convolutional Neural Network model."
      ],
      "id": "a2a6c86d"
    },
    {
      "cell_type": "markdown",
      "metadata": {
        "id": "50c56a8b"
      },
      "source": [
        "### Obtain a GPU device for training, otherwise use a CPU."
      ],
      "id": "50c56a8b"
    },
    {
      "cell_type": "code",
      "metadata": {
        "id": "f8fc84b4",
        "outputId": "39fec901-4045-4a7c-cb8e-22714c1ae22b",
        "colab": {
          "base_uri": "https://localhost:8080/"
        }
      },
      "source": [
        "device = \"cuda\" if torch.cuda.is_available() else \"cpu\"\n",
        "print(f\"Using a {device} device for training.\")"
      ],
      "id": "f8fc84b4",
      "execution_count": 7,
      "outputs": [
        {
          "output_type": "stream",
          "name": "stdout",
          "text": [
            "Using a cuda device for training.\n"
          ]
        }
      ]
    },
    {
      "cell_type": "markdown",
      "metadata": {
        "id": "6fcb55bf"
      },
      "source": [
        "### Build a convolutional neural network using the `PyTorch` library to perform classification on the Fashion-MNIST dataset."
      ],
      "id": "6fcb55bf"
    },
    {
      "cell_type": "code",
      "metadata": {
        "id": "a2ce3923"
      },
      "source": [
        "class ConvNN(nn.Module):\n",
        "    def __init__(self):\n",
        "        \"\"\"\n",
        "        A convolutional neural network whose pipeline is very similar to that of LeNet.\n",
        "        \n",
        "        It initially pads the 28x28 input image (of 1 channel) with a padding of 2\n",
        "        to replicate the C1 output of LeNet (i.e it returns 6 28x28 feature maps).\n",
        "        \n",
        "        Note that the softmax activation function is not applied to the final 10 inputs \n",
        "        into the final layer because the CrossEntropyLoss() function used later \n",
        "        combines nn.LogSoftmax() and nn.NLLLoss() (negative log likelihood loss) in one go,\n",
        "        that is, the CrossEntropyLoss() function will apply the softmax activation function \n",
        "        to these inputs and thus create an output vector of probabilites that will classify\n",
        "        the input image(s).\n",
        "        \"\"\"\n",
        "        super(ConvNN, self).__init__()\n",
        "        \n",
        "        # Note that the input to layer1 will be 1 feature map of size 28x28\n",
        "        self.layer1 = nn.Sequential(\n",
        "            nn.Conv2d(in_channels = 1, out_channels = 6, kernel_size = 5, stride = 1, padding = 2),\n",
        "            nn.MaxPool2d(kernel_size = 2, stride = 2)\n",
        "        )\n",
        "        \n",
        "        self.layer2 = nn.Sequential(\n",
        "            nn.Conv2d(in_channels = 6, out_channels = 16, kernel_size = 5, stride = 1, padding = 0),\n",
        "            nn.MaxPool2d(kernel_size = 2, stride = 2),\n",
        "            nn.Conv2d(in_channels = 16, out_channels = 120, kernel_size = 5, stride = 1, padding = 0)\n",
        "        )\n",
        "        \n",
        "        # Use dropout in order to avoid overfitting to the training data.\n",
        "        self.dropout = nn.Dropout()\n",
        "        \n",
        "        self.fc1 = nn.Linear(in_features = 120, out_features = 84)\n",
        "        self.fc2 = nn.Linear(in_features = 84, out_features = 10)\n",
        "        \n",
        "    def forward(self, x):\n",
        "        \"\"\"\n",
        "        Runs an input matrix of features through the Convolutional Neural Network\n",
        "        and returns a vector of size 10x1 which will be used after the CrossEntropyLoss()\n",
        "        function is applied (later) to classify each input image.\n",
        "        \"\"\"\n",
        "        out = self.layer1(x)\n",
        "        out = self.layer2(out)\n",
        "        # The output will be 120 feature maps of size 1x1, we reshape it to be a 120 dimensional vector ready\n",
        "        # for input into the nn.Linear layer.\n",
        "        out = out.reshape(out.size(0), -1)\n",
        "        out = self.dropout(out)\n",
        "        out = self.fc1(out)\n",
        "        out = self.fc2(out)\n",
        "\n",
        "        return out"
      ],
      "id": "a2ce3923",
      "execution_count": 8,
      "outputs": []
    },
    {
      "cell_type": "markdown",
      "metadata": {
        "id": "d50013e6"
      },
      "source": [
        "### Instantiate a ConvNN and print the model architecture."
      ],
      "id": "d50013e6"
    },
    {
      "cell_type": "code",
      "metadata": {
        "id": "9b81ac7d",
        "outputId": "c9935a2c-5b8c-4abc-cd59-7cecb6a4f70e",
        "colab": {
          "base_uri": "https://localhost:8080/"
        }
      },
      "source": [
        "convNet = ConvNN().to(device)\n",
        "print(convNet)"
      ],
      "id": "9b81ac7d",
      "execution_count": 9,
      "outputs": [
        {
          "output_type": "stream",
          "name": "stdout",
          "text": [
            "ConvNN(\n",
            "  (layer1): Sequential(\n",
            "    (0): Conv2d(1, 6, kernel_size=(5, 5), stride=(1, 1), padding=(2, 2))\n",
            "    (1): MaxPool2d(kernel_size=2, stride=2, padding=0, dilation=1, ceil_mode=False)\n",
            "  )\n",
            "  (layer2): Sequential(\n",
            "    (0): Conv2d(6, 16, kernel_size=(5, 5), stride=(1, 1))\n",
            "    (1): MaxPool2d(kernel_size=2, stride=2, padding=0, dilation=1, ceil_mode=False)\n",
            "    (2): Conv2d(16, 120, kernel_size=(5, 5), stride=(1, 1))\n",
            "  )\n",
            "  (dropout): Dropout(p=0.5, inplace=False)\n",
            "  (fc1): Linear(in_features=120, out_features=84, bias=True)\n",
            "  (fc2): Linear(in_features=84, out_features=10, bias=True)\n",
            ")\n"
          ]
        }
      ]
    },
    {
      "cell_type": "markdown",
      "metadata": {
        "id": "467b5efd"
      },
      "source": [
        "### Define the loss function, optimiser and hyper-parameters used for training the model."
      ],
      "id": "467b5efd"
    },
    {
      "cell_type": "code",
      "metadata": {
        "id": "0b14802d"
      },
      "source": [
        "# Set the hyperparameters\n",
        "epochs = 5\n",
        "classes = 10\n",
        "batch_size = 100\n",
        "learning_rate = 0.001\n",
        "\n",
        "# Loss Function:\n",
        "loss_function = nn.CrossEntropyLoss()\n",
        "\n",
        "# Optimiser:\n",
        "optimiser = optim.Adam(convNet.parameters(), lr = learning_rate)"
      ],
      "id": "0b14802d",
      "execution_count": 10,
      "outputs": []
    },
    {
      "cell_type": "markdown",
      "metadata": {
        "id": "bbfee8e8"
      },
      "source": [
        "### Start model training.\n",
        "\n",
        "At each iteration, get a random batch of images and labels from train_image and train_label, convert them into torch tensors, feed them into the network model and perform gradient descent."
      ],
      "id": "bbfee8e8"
    },
    {
      "cell_type": "code",
      "metadata": {
        "id": "9a9a3a7b"
      },
      "source": [
        "def print_epoch(epoch):\n",
        "    print(f\"------------------------------------------------------------------\")\n",
        "    print(f\"                           Epoch {epoch+1}                        \")\n",
        "    print(f\"------------------------------------------------------------------\")\n",
        "\n",
        "\n",
        "def train(classifier, X, y, batch_size, epochs, optimiser, loss_function, device):\n",
        "    # Calculate the number of iterations per epoch:\n",
        "    num_of_iterations = y.shape[0]//batch_size\n",
        "    \n",
        "    # Arrays to be used for analysis later.\n",
        "    loss_list = []\n",
        "    accuracy_list = []\n",
        "    \n",
        "    for epoch in range(epochs):\n",
        "        # Randomise X and y.\n",
        "        randomise = np.arange(len(X))\n",
        "        np.random.shuffle(randomise)\n",
        "        X_shuffled = X[randomise]\n",
        "        y_shuffled = y[randomise]\n",
        "    \n",
        "        # Print header stating which epoch the training is currently in.\n",
        "        print_epoch(epoch)\n",
        "    \n",
        "        for batch in range(num_of_iterations):\n",
        "            # Take each cut for the images and labels and turn them into tensors.\n",
        "            X_cut = X_shuffled[(batch*batch_size):((batch+1)*batch_size)] \n",
        "            X_cut = torch.from_numpy(X_cut)\n",
        "            X_cut = X_cut.type(torch.float32)\n",
        "            X_cut = X_cut.to(device)\n",
        "\n",
        "            y_cut = y_shuffled[(batch*batch_size):((batch+1)*batch_size)]\n",
        "            y_cut = torch.from_numpy(y_cut)\n",
        "            y_cut = y_cut.to(device)\n",
        "\n",
        "            # Pass them through the classifier and compute the prediction error.\n",
        "            outputs = classifier(X_cut)\n",
        "            loss = loss_function(outputs, y_cut)\n",
        "            \n",
        "            # Perform backpropagation\n",
        "            optimiser.zero_grad()\n",
        "            loss.backward()\n",
        "            optimiser.step()\n",
        "\n",
        "            # Calculate the accuracy statistics.\n",
        "            total = y_cut.size(0)\n",
        "            _, predicted = torch.max(outputs.data, 1)\n",
        "            correct = (predicted == y_cut).sum().item()\n",
        "            accuracy = correct / total\n",
        "            accuracy_list.append(accuracy)\n",
        "\n",
        "            # Print the Loss and Accuracy at the end of every 100th iteration.\n",
        "            if (batch + 1) % 100 == 0:\n",
        "                print(\"Epoch [{}/{}], Step [{}/{}], Loss: {:.4f}, Accuracy: {:.2f}%\"\n",
        "                      .format(epoch + 1, epochs, batch + 1, num_of_iterations, loss.item(), accuracy * 100))\n",
        "                      \n",
        "    return loss_list, accuracy_list"
      ],
      "id": "9a9a3a7b",
      "execution_count": 11,
      "outputs": []
    },
    {
      "cell_type": "code",
      "metadata": {
        "scrolled": true,
        "id": "fe4be31b",
        "outputId": "dc3d2c10-525c-4bda-e57a-fdd92b56ebed",
        "colab": {
          "base_uri": "https://localhost:8080/"
        }
      },
      "source": [
        "start = time.time()\n",
        "loss_list, accuracy_list = train(convNet, train_image, train_label, batch_size, epochs, optimiser, loss_function, device)\n",
        "end = time.time()\n",
        "\n",
        "print(f\"It took {end - start:.2f} seconds to train the model on the training set.\")"
      ],
      "id": "fe4be31b",
      "execution_count": 12,
      "outputs": [
        {
          "output_type": "stream",
          "name": "stdout",
          "text": [
            "------------------------------------------------------------------\n",
            "                           Epoch 1                        \n",
            "------------------------------------------------------------------\n"
          ]
        },
        {
          "output_type": "stream",
          "name": "stderr",
          "text": [
            "/usr/local/lib/python3.7/dist-packages/torch/nn/functional.py:718: UserWarning: Named tensors and all their associated APIs are an experimental feature and subject to change. Please do not use them for anything important until they are released as stable. (Triggered internally at  /pytorch/c10/core/TensorImpl.h:1156.)\n",
            "  return torch.max_pool2d(input, kernel_size, stride, padding, dilation, ceil_mode)\n"
          ]
        },
        {
          "output_type": "stream",
          "name": "stdout",
          "text": [
            "Epoch [1/5], Step [100/600], Loss: 0.6686, Accuracy: 80.00%\n",
            "Epoch [1/5], Step [200/600], Loss: 0.4035, Accuracy: 86.00%\n",
            "Epoch [1/5], Step [300/600], Loss: 0.5674, Accuracy: 79.00%\n",
            "Epoch [1/5], Step [400/600], Loss: 0.6199, Accuracy: 83.00%\n",
            "Epoch [1/5], Step [500/600], Loss: 0.6055, Accuracy: 84.00%\n",
            "Epoch [1/5], Step [600/600], Loss: 0.4640, Accuracy: 84.00%\n",
            "------------------------------------------------------------------\n",
            "                           Epoch 2                        \n",
            "------------------------------------------------------------------\n",
            "Epoch [2/5], Step [100/600], Loss: 0.3581, Accuracy: 86.00%\n",
            "Epoch [2/5], Step [200/600], Loss: 0.5173, Accuracy: 87.00%\n",
            "Epoch [2/5], Step [300/600], Loss: 0.4532, Accuracy: 82.00%\n",
            "Epoch [2/5], Step [400/600], Loss: 0.3435, Accuracy: 89.00%\n",
            "Epoch [2/5], Step [500/600], Loss: 0.3782, Accuracy: 88.00%\n",
            "Epoch [2/5], Step [600/600], Loss: 0.4054, Accuracy: 86.00%\n",
            "------------------------------------------------------------------\n",
            "                           Epoch 3                        \n",
            "------------------------------------------------------------------\n",
            "Epoch [3/5], Step [100/600], Loss: 0.4557, Accuracy: 82.00%\n",
            "Epoch [3/5], Step [200/600], Loss: 0.3278, Accuracy: 89.00%\n",
            "Epoch [3/5], Step [300/600], Loss: 0.3271, Accuracy: 89.00%\n",
            "Epoch [3/5], Step [400/600], Loss: 0.3519, Accuracy: 91.00%\n",
            "Epoch [3/5], Step [500/600], Loss: 0.4829, Accuracy: 83.00%\n",
            "Epoch [3/5], Step [600/600], Loss: 0.4157, Accuracy: 89.00%\n",
            "------------------------------------------------------------------\n",
            "                           Epoch 4                        \n",
            "------------------------------------------------------------------\n",
            "Epoch [4/5], Step [100/600], Loss: 0.3343, Accuracy: 88.00%\n",
            "Epoch [4/5], Step [200/600], Loss: 0.4495, Accuracy: 85.00%\n",
            "Epoch [4/5], Step [300/600], Loss: 0.2555, Accuracy: 94.00%\n",
            "Epoch [4/5], Step [400/600], Loss: 0.3070, Accuracy: 88.00%\n",
            "Epoch [4/5], Step [500/600], Loss: 0.4012, Accuracy: 86.00%\n",
            "Epoch [4/5], Step [600/600], Loss: 0.6285, Accuracy: 79.00%\n",
            "------------------------------------------------------------------\n",
            "                           Epoch 5                        \n",
            "------------------------------------------------------------------\n",
            "Epoch [5/5], Step [100/600], Loss: 0.2600, Accuracy: 91.00%\n",
            "Epoch [5/5], Step [200/600], Loss: 0.5236, Accuracy: 81.00%\n",
            "Epoch [5/5], Step [300/600], Loss: 0.3011, Accuracy: 90.00%\n",
            "Epoch [5/5], Step [400/600], Loss: 0.4604, Accuracy: 85.00%\n",
            "Epoch [5/5], Step [500/600], Loss: 0.3128, Accuracy: 88.00%\n",
            "Epoch [5/5], Step [600/600], Loss: 0.3328, Accuracy: 87.00%\n",
            "It took 13.23 seconds to train the model on the training set.\n"
          ]
        }
      ]
    },
    {
      "cell_type": "markdown",
      "metadata": {
        "id": "377cbd01"
      },
      "source": [
        "### Deploy the trained model on the test set."
      ],
      "id": "377cbd01"
    },
    {
      "cell_type": "code",
      "metadata": {
        "id": "79007128",
        "outputId": "eb3ce93b-3402-45ad-c57b-23e411faf479",
        "colab": {
          "base_uri": "https://localhost:8080/"
        }
      },
      "source": [
        "start = time.time()\n",
        "convNet.eval()\n",
        "with torch.no_grad():\n",
        "    test_image_tensor = test_image\n",
        "    test_image_tensor = torch.from_numpy(test_image_tensor)\n",
        "    test_image_tensor = test_image_tensor.type(torch.float32)\n",
        "    test_image_tensor = test_image_tensor.to(device)\n",
        "    \n",
        "    test_label_tensor = test_label\n",
        "    test_label_tensor = torch.from_numpy(test_label_tensor)\n",
        "    test_label_tensor = test_label_tensor.to(device)\n",
        "    \n",
        "    outputs = convNet(test_image_tensor)\n",
        "    _, predicted = torch.max(outputs.data, 1)\n",
        "    \n",
        "end = time.time()\n",
        "print(f\"It took {end - start:.2f} seconds to deploy the trained model on the test set.\")"
      ],
      "id": "79007128",
      "execution_count": 13,
      "outputs": [
        {
          "output_type": "stream",
          "name": "stdout",
          "text": [
            "It took 0.01 seconds to deploy the trained model on the test set.\n"
          ]
        }
      ]
    },
    {
      "cell_type": "markdown",
      "metadata": {
        "id": "8928b543"
      },
      "source": [
        "### Evaluate the classification accuracy on the test set."
      ],
      "id": "8928b543"
    },
    {
      "cell_type": "code",
      "metadata": {
        "id": "79e0fb7c",
        "outputId": "91c7008b-315a-4a79-b200-c9a9f662a824",
        "colab": {
          "base_uri": "https://localhost:8080/"
        }
      },
      "source": [
        "total = test_label_tensor.size(0)\n",
        "correct = (predicted == test_label_tensor).sum().item()\n",
        "test_accuracy = correct / total * 100\n",
        "\n",
        "print(f\"The test accuracy of the model on the {total} test images is {test_accuracy:.{2}f}%.\")"
      ],
      "id": "79e0fb7c",
      "execution_count": 14,
      "outputs": [
        {
          "output_type": "stream",
          "name": "stdout",
          "text": [
            "The test accuracy of the model on the 10000 test images is 86.85%.\n"
          ]
        }
      ]
    },
    {
      "cell_type": "markdown",
      "metadata": {
        "id": "07f2adfc"
      },
      "source": [
        "### Print out and visualise the confusion matrix."
      ],
      "id": "07f2adfc"
    },
    {
      "cell_type": "code",
      "metadata": {
        "id": "da285e06",
        "outputId": "1ae1d4d9-ef0f-4643-9463-6f9ccd8c1823",
        "colab": {
          "base_uri": "https://localhost:8080/",
          "height": 452
        }
      },
      "source": [
        "if device == 'cuda':\n",
        "        # Moves the tensors back to a cpu if it's on a gpu before calculating the confusion matrix.\n",
        "        test_label_tensor = test_label_tensor.cpu()\n",
        "        predicted = predicted.cpu()\n",
        "\n",
        "cm = metrics.confusion_matrix(test_label_tensor, predicted)\n",
        "\n",
        "plt.figure(figsize=(7, 7))\n",
        "plt.imshow(cm, interpolation=\"nearest\", cmap=plt.cm.Reds)\n",
        "plt.colorbar() \n",
        "\n",
        "tick_marks = np.arange(len(class_name))\n",
        "plt.xticks(tick_marks, class_name, rotation=90)\n",
        "plt.yticks(tick_marks, class_name)\n",
        "\n",
        "thresh = cm.max() / 2.\n",
        "for i, j in itertools.product(range(cm.shape[0]), range(cm.shape[1])):\n",
        "        plt.text(j, i, cm[i, j],\n",
        "                 horizontalalignment=\"center\",\n",
        "                 verticalalignment=\"center\",\n",
        "                 color=\"white\" if cm[i, j] > thresh else \"black\")\n",
        "\n",
        "plt.title(\"Confusion Matrix, without Normalisation\")\n",
        "plt.xlabel(\"Predicted Label Class\") \n",
        "plt.ylabel(\"True Label Class\") \n",
        "\n",
        "plt.show()"
      ],
      "id": "da285e06",
      "execution_count": 15,
      "outputs": [
        {
          "output_type": "display_data",
          "data": {
            "image/png": "[encoded data removed]",
            "text/plain": [
              "<Figure size 504x504 with 2 Axes>"
            ]
          },
          "metadata": {
            "needs_background": "light"
          }
        }
      ]
    },
    {
      "cell_type": "markdown",
      "metadata": {
        "id": "450874ef"
      },
      "source": [
        "### Save the model for later use."
      ],
      "id": "450874ef"
    },
    {
      "cell_type": "code",
      "metadata": {
        "id": "0b354c72",
        "outputId": "6becbfb0-1f73-4327-f36c-197418196d6a",
        "colab": {
          "base_uri": "https://localhost:8080/"
        }
      },
      "source": [
        "torch.save(convNet.state_dict(), \"convNet.pth\")\n",
        "print(\"Saved PyTorch Model State to convNet.pth\")"
      ],
      "id": "0b354c72",
      "execution_count": 16,
      "outputs": [
        {
          "output_type": "stream",
          "name": "stdout",
          "text": [
            "Saved PyTorch Model State to convNet.pth\n"
          ]
        }
      ]
    }
  ]
}